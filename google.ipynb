{
 "cells": [
  {
   "cell_type": "code",
   "execution_count": 2,
   "metadata": {
    "collapsed": true
   },
   "outputs": [],
   "source": [
    "# stuff from Google interview\n",
    "\n",
    "import pandas as pd\n",
    "import numpy  as np\n",
    "\n",
    "import matplotlib.pyplot as plt\n",
    "%matplotlib inline\n"
   ]
  },
  {
   "cell_type": "code",
   "execution_count": 299,
   "metadata": {
    "collapsed": false
   },
   "outputs": [
    {
     "name": "stdout",
     "output_type": "stream",
     "text": [
      "this should print zero if user durations are correct:  0.0\n",
      "this should print zero if group mean durations are correct:  0.0\n"
     ]
    }
   ],
   "source": [
    "\n",
    "# construct fake data of the form discussed; a data frame with group, user, and time columns\n",
    "# and a unique user-group relationship for any data point. find per-user durations from the table\n",
    "# and group mean durations\n",
    "\n",
    "# first, create some fake data and the \"ground truth\" against which to compare pandas\n",
    "# native operations\n",
    "\n",
    "G = 10 # number of groups\n",
    "U = 1000 # number of users\n",
    "\n",
    "# random sample of user-group assignments\n",
    "gr = np.append( np.sort( np.random.rand( G-1 ) , axis=0 ) , [1.0] ) # random \"buckets\" for groups, in increasing order\n",
    "ur = np.random.rand( U ) # random \"values\" for users, in increasing order\n",
    "ug = np.argmax( ( ur.reshape((U,1)) < gr.reshape((1,G))  ) , axis=1 ) + 1 # group assignment indices\n",
    "el = np.random.poisson( lam=10.0 , size=U ) + 2 # elements per user\n",
    "N = np.sum( el ) # total number of rows (observations) equal to total number of elements\n",
    "D = np.empty( (N,3) )\n",
    "b = 0\n",
    "ut = np.empty( U )\n",
    "gt = np.zeros( G )\n",
    "gu = np.zeros( G )\n",
    "for u in range(0,U) :\n",
    "    c = b + el[u]\n",
    "    D[b:c,0] = ug[u]\n",
    "    D[b:c,1] = u + 1\n",
    "    t = np.random.rand( el[u] )\n",
    "    D[b:c,2] = t.copy()\n",
    "    ut[u] = np.max( t ) - np.min( t )\n",
    "    gt[ ug[u]-1 ] += ut[u]\n",
    "    gu[ ug[u]-1 ] += 1\n",
    "    b = c\n",
    "    \n",
    "gt = gt / gu # normalize averages\n",
    "\n",
    "DF = pd.DataFrame( data=D , columns=['group','user','time'] , copy=True ) # create the dataframe\n",
    "DF = DF.sort_values( by=['time'], ascending=[True] ) # sort by time, mimicking a stream-like table\n",
    "\n",
    "# now we have this data frame... do the aggregations in pandas-native operations\n",
    "gdf = DF.groupby( by=['user','group'] , sort=True ) # groupby order is important\n",
    "gut = gdf.agg( { 'time' : [np.max,np.min] } , as_index=False ) # aggregate 'time' column by min and max\n",
    "gut['dur'] = gut['time','amax'] - gut['time','amin'] # add a duration column\n",
    "\n",
    "# check answer for first part: user durations\n",
    "print( 'this should print zero if user durations are correct: ' , np.max( np.abs( gut['dur'].values - ut ) ) )\n",
    "\n",
    "# second part: compute means\n",
    "gat = gut['dur'].groupby( level=[1] ).mean() # note level \"1\" from ordering before\n",
    "\n",
    "# check answer for second part: within group mean user durations\n",
    "print( 'this should print zero if group mean durations are correct: ' , np.max( np.abs( gat.values - gt ) ) )\n"
   ]
  },
  {
   "cell_type": "code",
   "execution_count": 192,
   "metadata": {
    "collapsed": false
   },
   "outputs": [
    {
     "name": "stdout",
     "output_type": "stream",
     "text": [
      "1.71715 {1: 0.50098, 2: 0.33226, 3: 0.12552, 4: 0.03287, 5: 0.0068, 6: 0.0014, 7: 0.00015, 8: 2e-05}\n"
     ]
    },
    {
     "data": {
      "text/plain": [
       "[<matplotlib.lines.Line2D at 0x2468232ea58>]"
      ]
     },
     "execution_count": 192,
     "metadata": {},
     "output_type": "execute_result"
    },
    {
     "data": {
      "image/png": "[encoded data removed]",
      "text/plain": [
       "<matplotlib.figure.Figure at 0x246825854a8>"
      ]
     },
     "metadata": {},
     "output_type": "display_data"
    }
   ],
   "source": [
    "# Given a sequence X_1,X_2,... ~ U(0,1) of iid standard uniform variables, let \n",
    "# \n",
    "#      N = min{ n : X_n < X_{n-1} }\n",
    "# \n",
    "# What is Expect[ N ]? \n",
    "# \n",
    "# The simulation approach is straightforward, as coded below. Note we use C/C++/python-style \n",
    "# 0-base indexing not math/FORTRAN/matlab-style 1-base indexing. \n",
    "\n",
    "def simulate(  ) : \n",
    "    \"\"\" simulate a sequence of iid U(0,1) variables, and return the index of first decrease \"\"\"\n",
    "    S = np.random.rand( 100 )\n",
    "    D = ( S[1:] - S[0:-1] < 0 ).astype( np.uint8 )\n",
    "    return np.argmax( D ) + 1\n",
    "\n",
    "T = 100000\n",
    "Ns = {}\n",
    "for n in range(0,T) : \n",
    "    N = simulate(  )\n",
    "    if N in Ns : Ns[N] += 1\n",
    "    else : Ns[N] = 1\n",
    "\n",
    "m = 0\n",
    "for N in Ns : \n",
    "    Ns[N] /= T\n",
    "    m += Ns[N] * N\n",
    "\n",
    "print( m , Ns )\n",
    "\n",
    "N = np.array( list( Ns.keys()   ) )\n",
    "C = np.array( list( Ns.values() ) )\n",
    "plt.plot( N , C , '.-k' )\n",
    "\n",
    "# here is a no-(explicit-)loop method\n",
    "S = np.random.rand(50,T).astype( np.float32 )\n",
    "D = ( S[1:,:] - S[0:-1,:] < 0 ).astype( np.uint8 )\n",
    "N = np.argmax( D , axis=0 ) + 1\n",
    "m2 = np.mean( N )\n",
    "\n",
    "# Can we come up with an exact method? \n"
   ]
  },
  {
   "cell_type": "code",
   "execution_count": 64,
   "metadata": {
    "collapsed": false
   },
   "outputs": [
    {
     "name": "stdout",
     "output_type": "stream",
     "text": [
      "0.5 0.50145\n",
      "0.375 0.3707375\n",
      "0.375 0.3077375\n",
      "0.158203125 0.136115820312\n"
     ]
    }
   ],
   "source": [
    "# Say we take N (odd) bernoulli trials but stop when \"heads\" or \"tails\" comes up N - floor(N/2)\n",
    "# times. What is the probability of having a sequence of length N? I solve this both with an\n",
    "# method and a simulation method, which compute the probability mass function of the outcome\n",
    "# variable(s) (W,L) where W is the winner and L is the (stopped) sequence length. If we just\n",
    "# want the probability of full sequences, we can compute the marginal mass of L == N via addition. \n",
    "\n",
    "def bestof_exact( N , prob=0.5 , size=None ) : \n",
    "    \n",
    "    \"\"\" compute exact \"best of\" probabilities for a bernoulli variable with parameter p \"\"\"\n",
    "    \n",
    "    from scipy.special import binom\n",
    "    \n",
    "    if N % 2 == 0 : raise ValueError( 'best of requires an odd number of trials' )\n",
    "    \n",
    "    # initialize stuff we use below\n",
    "    w = int((N+1)/2) # win count\n",
    "    r = N-w     # remainder\n",
    "    p = min( max( prob , 0.0 ) , 1.0 ) # \"target\" probability (safegaurded)\n",
    "    q = 1.0-p   # \"alternative\" probability\n",
    "    \n",
    "    # eliminate trivial cases\n",
    "    if ( p == 1.0 ) or ( p == 0.0 ) :\n",
    "        A , B = np.zeros( w ) , np.zeros( w )\n",
    "        if p == 1.0 : A[0] = 1.0\n",
    "        else: B[0] = 1.0\n",
    "        return ( A , B )\n",
    "    \n",
    "    # allocate space\n",
    "    A , B = np.zeros( w ) , np.zeros( w )\n",
    "    \n",
    "    # compute probabilities\n",
    "    for i in range(0,w) : \n",
    "        # initialize this element with truncated binomial probability\n",
    "        c = binom( w+i , w )\n",
    "        A[i] , B[i] = c * p**w * q**i , c * p**i * q**w\n",
    "        if i > 0 : # subtract out a fraction of the last \"branch\" in the sequence tree\n",
    "            A[i] -= q * A[i-1]\n",
    "            B[i] -= p * B[i-1]\n",
    "    \n",
    "    return (A,B)\n",
    "\n",
    "def bestof_simul( N , prob=0.5 , size=1000 ) : \n",
    "    \n",
    "    \"\"\" simulate \"best of\" probabilities for a bernoulli variable with parameter p \"\"\"\n",
    "    \n",
    "    if N % 2 == 0 : raise ValueError( 'best of requires an odd number of trials' )\n",
    "    \n",
    "    # initialize stuff we use below\n",
    "    w = int((N+1)/2) # win count\n",
    "    p = min( max( prob , 0.0 ) , 1.0 ) # \"target\" probability (safegaurded)\n",
    "    \n",
    "    # eliminate trivial cases\n",
    "    if ( p == 1.0 ) or ( p == 0.0 ) :\n",
    "        A , B = np.zeros( w ) , np.zeros( w )\n",
    "        if p == 1.0 : A[0] = 1.0\n",
    "        else: B[0] = 1.0\n",
    "        return ( A , B )\n",
    "    \n",
    "    # allocate space\n",
    "    A , B , S = np.empty( w ) , np.empty( w ) , np.empty( N )\n",
    "    \n",
    "    # simulate\n",
    "    for s in range(0,size) : \n",
    "        \n",
    "        # draw a sequence, compute length and figure out winner\n",
    "        S = np.cumsum( np.random.rand( N ) <= p )\n",
    "        if S[-1] >= w : # target wins\n",
    "            i = w-1\n",
    "            while S[i] < w : i += 1\n",
    "            A[i-w+1] += 1\n",
    "        else : # alternative wins\n",
    "            S = np.arange( 1 , N+1 , 1 ) - S\n",
    "            i = w-1\n",
    "            while S[i] < w : i += 1\n",
    "            B[i-w+1] += 1\n",
    "    \n",
    "    # normalize for probabilities\n",
    "    A /= size\n",
    "    B /= size\n",
    "    \n",
    "    return (A,B)\n",
    "\n",
    "def bestof( N , prob=0.5 , exact=True , size=1000 ) : \n",
    "    if exact : return bestof_exact( N , prob=prob , size=None )\n",
    "    else     : return bestof_simul( N , prob=prob , size=size )\n",
    "\n",
    "# problem: given p and N state Prob( length == max )\n",
    "def bestof_maxlength( N , prob=0.5 , exact=True , size=10000 ) :\n",
    "    if exact : R = bestof_exact( N , prob=prob , size=None )\n",
    "    else     : R = bestof_simul( N , prob=prob , size=size )\n",
    "    return ( R[0][-1] + R[1][-1] )\n",
    "    \n",
    "def test_bestof( N , prob=0.5 , exact=True , size=1000 ) : \n",
    "    R = bestof( N , prob=prob , exact=exact , size=size )\n",
    "    A , B = R[0] , R[1]\n",
    "    print( 'probabilities: ' , A , B[::-1] , np.sum(A) + np.sum(B) )\n",
    "    \n",
    "N , p = 3 , 0.75\n",
    "# test_bestof( N , prob=p , exact=True )\n",
    "# test_bestof( N , prob=p , exact=False , size=10 )\n",
    "# test_bestof( N , prob=p , exact=False , size=100 )\n",
    "# test_bestof( N , prob=p , exact=False , size=1000 )\n",
    "# test_bestof( N , prob=p , exact=False , size=10000 )\n",
    "# test_bestof( N , prob=p , exact=False , size=100000 )\n",
    "# test_bestof( N , prob=p , exact=False , size=1000000 )\n",
    "# print( 'done testing' )\n",
    "\n",
    "N , p = 3 , 0.5 # easy to compute: 50%\n",
    "print( bestof_maxlength( N , prob=p , exact=True ) , bestof_maxlength( N , prob=p , exact=False ) )\n",
    "\n",
    "N , p = 3 , 0.75 # easy to compute 37.5%\n",
    "print( bestof_maxlength( N , prob=p , exact=True ) , bestof_maxlength( N , prob=p , exact=False ) )\n",
    "\n",
    "N , p = 7 , 0.5 # possible analytical test case: should be \"easy\" to figure out? \n",
    "print( bestof_maxlength( N , prob=p , exact=True ) , bestof_maxlength( N , prob=p , exact=False ) )\n",
    "\n",
    "N , p = 7 , 0.75 # harder to figure out, but nonetheless\n",
    "print( bestof_maxlength( N , prob=p , exact=True ) , bestof_maxlength( N , prob=p , exact=False ) )\n",
    "    "
   ]
  },
  {
   "cell_type": "code",
   "execution_count": null,
   "metadata": {
    "collapsed": false
   },
   "outputs": [],
   "source": []
  }
 ],
 "metadata": {
  "anaconda-cloud": {},
  "kernelspec": {
   "display_name": "Python [conda env:python3]",
   "language": "python",
   "name": "conda-env-python3-py"
  },
  "language_info": {
   "codemirror_mode": {
    "name": "ipython",
    "version": 3
   },
   "file_extension": ".py",
   "mimetype": "text/x-python",
   "name": "python",
   "nbconvert_exporter": "python",
   "pygments_lexer": "ipython3",
   "version": "3.5.2"
  }
 },
 "nbformat": 4,
 "nbformat_minor": 1
}
